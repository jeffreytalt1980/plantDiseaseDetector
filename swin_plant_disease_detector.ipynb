{
 "cells": [
  {
   "cell_type": "markdown",
   "id": "c00d2b28-3b69-46b9-9c64-318891e25ff7",
   "metadata": {},
   "source": [
    "## SWIN Transformer Plant Disease Detector Model"
   ]
  },
  {
   "cell_type": "markdown",
   "id": "5c91190e-94b1-489a-a5cd-b33848fce8d4",
   "metadata": {},
   "source": [
    "### Import Libraries"
   ]
  },
  {
   "cell_type": "code",
   "execution_count": 71,
   "id": "ad0cc080-b065-4d61-9f77-fc019bcadee9",
   "metadata": {},
   "outputs": [],
   "source": [
    "import tensorflow as tf\n",
    "import matplotlib.pyplot as plt\n",
    "import pandas as pd\n",
    "import numpy as np\n",
    "import seaborn as sns\n",
    "import json\n",
    "import keras_cv\n",
    "import os\n",
    "from sklearn.metrics import classification_report, confusion_matrix"
   ]
  },
  {
   "cell_type": "markdown",
   "id": "2d32c225-58e0-4293-9009-814e1ce54a3a",
   "metadata": {},
   "source": [
    "### Data Preprocessing"
   ]
  },
  {
   "cell_type": "code",
   "execution_count": 124,
   "id": "cde0f4d9-efdf-4f3a-beb5-5f4b6ef55729",
   "metadata": {},
   "outputs": [],
   "source": [
    "data_directory = \"PlantVillage\"\n",
    "seed_value = 27\n",
    "class_names = ['Apple___Apple_scab',\n",
    " 'Apple___Black_rot',\n",
    " 'Apple___Cedar_apple_rust',\n",
    " 'Apple___healthy',\n",
    " 'Blueberry___healthy',\n",
    " 'Cherry_(including_sour)___Powdery_mildew',\n",
    " 'Cherry_(including_sour)___healthy',\n",
    " 'Corn_(maize)___Cercospora_leaf_spot Gray_leaf_spot',\n",
    " 'Corn_(maize)___Common_rust_',\n",
    " 'Corn_(maize)___Northern_Leaf_Blight',\n",
    " 'Corn_(maize)___healthy',\n",
    " 'Grape___Black_rot',\n",
    " 'Grape___Esca_(Black_Measles)',\n",
    " 'Grape___Leaf_blight_(Isariopsis_Leaf_Spot)',\n",
    " 'Grape___healthy',\n",
    " 'Orange___Haunglongbing_(Citrus_greening)',\n",
    " 'Peach___Bacterial_spot',\n",
    " 'Peach___healthy',\n",
    " 'Pepper,_bell___Bacterial_spot',\n",
    " 'Pepper,_bell___healthy',\n",
    " 'Potato___Early_blight',\n",
    " 'Potato___Late_blight',\n",
    " 'Potato___healthy',\n",
    " 'Raspberry___healthy',\n",
    " 'Soybean___healthy',\n",
    " 'Squash___Powdery_mildew',\n",
    " 'Strawberry___Leaf_scorch',\n",
    " 'Strawberry___healthy',\n",
    " 'Tomato___Bacterial_spot',\n",
    " 'Tomato___Early_blight',\n",
    " 'Tomato___Late_blight',\n",
    " 'Tomato___Leaf_Mold',\n",
    " 'Tomato___Septoria_leaf_spot',\n",
    " 'Tomato___Spider_mites Two-spotted_spider_mite',\n",
    " 'Tomato___Target_Spot',\n",
    " 'Tomato___Tomato_Yellow_Leaf_Curl_Virus',\n",
    " 'Tomato___Tomato_mosaic_virus',\n",
    " 'Tomato___healthy']"
   ]
  },
  {
   "cell_type": "markdown",
   "id": "84fe550a-9fc9-4f3e-9f7c-1a0126ae36dc",
   "metadata": {},
   "source": [
    "#### Hyperparameters"
   ]
  },
  {
   "cell_type": "code",
   "execution_count": 125,
   "id": "a1a8280e-a112-4786-a811-b3b0ac8b1dff",
   "metadata": {},
   "outputs": [],
   "source": [
    "number_of_classes = len(class_names)\n",
    "image_dimension = 32 # 224\n",
    "window_size = 2\n",
    "shift_size = 1\n",
    "\n",
    "input_shape = (image_dimension, image_dimension, 3)\n",
    "image_size = (image_dimension, image_dimension)\n",
    "patch_size = (window_size, window_size)\n",
    "\n",
    "dropout_rate = 0.03\n",
    "number_of_heads = 8\n",
    "embedding_dimension = 64\n",
    "number_of_MLP = 256\n",
    "\n",
    "qkv_bias = True\n",
    "\n",
    "number_of_patches_x = input_shape[0] // patch_size[0]\n",
    "number_of_patches_y = input_shape[1] // patch_size[1]\n",
    "\n",
    "batch_size = 32\n",
    "learning_rate = 0.0001\n",
    "number_of_epochs = 10\n",
    "\n",
    "validation_split = .03\n",
    "weight_decay = 0.0001\n",
    "label_smoothing = 0.1"
   ]
  },
  {
   "cell_type": "markdown",
   "id": "5ebbeff7-f449-40c4-b40c-8cee43dd6105",
   "metadata": {},
   "source": [
    "### Training/Validation/Test Data Split"
   ]
  },
  {
   "cell_type": "markdown",
   "id": "1c7ae553-362d-4fe7-bf92-c7cabf520070",
   "metadata": {},
   "source": [
    "#### Training Images"
   ]
  },
  {
   "cell_type": "code",
   "execution_count": 130,
   "id": "efba0e9d-c537-4492-8078-4b1a87116557",
   "metadata": {},
   "outputs": [
    {
     "name": "stdout",
     "output_type": "stream",
     "text": [
      "Found 41276 files belonging to 16 classes.\n",
      "Using 28894 files for training.\n"
     ]
    }
   ],
   "source": [
    "training_set = tf.keras.utils.image_dataset_from_directory(\n",
    "    data_directory,\n",
    "    labels=\"inferred\",\n",
    "    label_mode=\"categorical\",\n",
    "    class_names=None,\n",
    "    color_mode=\"rgb\",\n",
    "    batch_size=batch_size,\n",
    "    image_size=image_size,\n",
    "    shuffle=True,\n",
    "    validation_split=0.3,\n",
    "    subset=\"training\",\n",
    "    interpolation=\"bilinear\",\n",
    "    follow_links=False,\n",
    "    crop_to_aspect_ratio=False,\n",
    "    pad_to_aspect_ratio=False,\n",
    "    verbose=True,\n",
    "    seed=seed_value,\n",
    ")"
   ]
  },
  {
   "cell_type": "markdown",
   "id": "f5e71b2d-e916-405f-8526-7022c7c2b334",
   "metadata": {},
   "source": [
    "#### Validation Images"
   ]
  },
  {
   "cell_type": "code",
   "execution_count": 131,
   "id": "2b1f8bf6-ea57-45b4-bcf7-f5820e051b32",
   "metadata": {},
   "outputs": [
    {
     "name": "stdout",
     "output_type": "stream",
     "text": [
      "Found 41276 files belonging to 16 classes.\n",
      "Using 12382 files for validation.\n"
     ]
    }
   ],
   "source": [
    "validation_set = tf.keras.utils.image_dataset_from_directory(\n",
    "    data_directory,\n",
    "    labels=\"inferred\",\n",
    "    label_mode=\"categorical\",\n",
    "    class_names=None,\n",
    "    color_mode=\"rgb\",\n",
    "    batch_size=32,\n",
    "    image_size=image_size,\n",
    "    shuffle=True,\n",
    "    validation_split=0.3,\n",
    "    subset=\"validation\",\n",
    "    interpolation=\"bilinear\",\n",
    "    follow_links=False,\n",
    "    crop_to_aspect_ratio=False,\n",
    "    pad_to_aspect_ratio=False,\n",
    "    verbose=True,\n",
    "    seed=seed_value,\n",
    ")"
   ]
  },
  {
   "cell_type": "markdown",
   "id": "d05fb163-811c-4d91-a9b5-0088426a8039",
   "metadata": {},
   "source": [
    "#### Test Images"
   ]
  },
  {
   "cell_type": "code",
   "execution_count": 132,
   "id": "f7c065c2-bd6a-4f82-86bc-d9c3db60a6c2",
   "metadata": {},
   "outputs": [],
   "source": [
    "number_of_validation_batches = tf.data.experimental.cardinality(validation_set)\n",
    "test_set = validation_set.skip((number_of_validation_batches * 2) // 3)\n",
    "validation_set = validation_set.take((number_of_validation_batches * 2) // 3)"
   ]
  },
  {
   "cell_type": "markdown",
   "id": "5a73e51e-98da-43bf-ba69-1bef20bb501e",
   "metadata": {},
   "source": [
    "#### Data Augmentation"
   ]
  },
  {
   "cell_type": "code",
   "execution_count": 133,
   "id": "7c4f92a4-6d17-4e50-971d-da0e21fab58e",
   "metadata": {},
   "outputs": [],
   "source": [
    "augment_data = tf.keras.Sequential([\n",
    "    tf.keras.layers.Rescaling(1./255),\n",
    "    tf.keras.layers.RandomFlip(\"horizontal\"),\n",
    "    tf.keras.layers.RandomRotation(0.2),\n",
    "    tf.keras.layers.RandomZoom(0.1),\n",
    "])"
   ]
  },
  {
   "cell_type": "code",
   "execution_count": 134,
   "id": "f98c60b4-23b1-4d8b-a704-e190120b7feb",
   "metadata": {},
   "outputs": [],
   "source": [
    "AUTOTUNE = tf.data.AUTOTUNE\n",
    "\n",
    "training_set = training_set.map(lambda x, y: (augment_data(x, training=True), y))\n",
    "training_set = training_set.prefetch(buffer_size=AUTOTUNE)\n",
    "validation_set = validation_set.map(lambda x, y: (x / 255.0, y)).prefetch(buffer_size=AUTOTUNE)\n",
    "test_set = test_set.map(lambda x, y: (x / 255.0, y)).prefetch(buffer_size=AUTOTUNE)"
   ]
  },
  {
   "cell_type": "markdown",
   "id": "6b607b3b-b82b-44f7-8001-a3247a0c955f",
   "metadata": {},
   "source": [
    "### Building the Model"
   ]
  },
  {
   "cell_type": "code",
   "execution_count": 135,
   "id": "a2f6d9ef-4b3b-40d9-ac83-c510d30e8f59",
   "metadata": {},
   "outputs": [],
   "source": [
    "from tensorflow.keras.layers import GlobalAveragePooling2D, Dense, Dropout"
   ]
  },
  {
   "cell_type": "markdown",
   "id": "d63e868f-9e7b-4df9-846d-4debd734435d",
   "metadata": {},
   "source": [
    "### Compiling the Model"
   ]
  },
  {
   "cell_type": "code",
   "execution_count": null,
   "id": "bb12b862-f1f9-44b1-a05e-db176906df5f",
   "metadata": {},
   "outputs": [],
   "source": [
    "model.compile(optimizer=tf.keras.optimizers.Adam(learning_rate=0.0001), loss='categorical_crossentropy', metrics=['accuracy'])"
   ]
  },
  {
   "cell_type": "code",
   "execution_count": null,
   "id": "06ccc3f1-981e-4eda-8bf4-ef1b2791c65f",
   "metadata": {},
   "outputs": [],
   "source": [
    "model.summary()"
   ]
  },
  {
   "cell_type": "markdown",
   "id": "23a2c8b6-5c8b-434d-b715-bf411fa089bb",
   "metadata": {},
   "source": [
    "### Training the Model"
   ]
  },
  {
   "cell_type": "code",
   "execution_count": null,
   "id": "4c5ed009-b115-4293-b26a-16a1c8f4b59b",
   "metadata": {},
   "outputs": [],
   "source": [
    "training_history = model.fit(x=training_set, validation_data=validation_set, epochs=10)"
   ]
  },
  {
   "cell_type": "markdown",
   "id": "8d148038-e8e9-4a54-9d7c-3ec68f0c6942",
   "metadata": {},
   "source": [
    "### Evaluate the Model"
   ]
  },
  {
   "cell_type": "markdown",
   "id": "d841e048-d774-4b58-8ae4-0349170ad2c9",
   "metadata": {},
   "source": [
    "### Save the Model"
   ]
  },
  {
   "cell_type": "code",
   "execution_count": null,
   "id": "4c2c590b-4f69-4f04-a822-47ee05b69fb0",
   "metadata": {},
   "outputs": [],
   "source": [
    "model.save(\"swin_model_trained.keras\")"
   ]
  },
  {
   "cell_type": "markdown",
   "id": "b162ad5a-85b4-4b1d-9593-493d9606e998",
   "metadata": {},
   "source": [
    "### Recording the training history "
   ]
  },
  {
   "cell_type": "code",
   "execution_count": null,
   "id": "9cb28314-d1f6-471c-bb4d-27b0eb85682d",
   "metadata": {},
   "outputs": [],
   "source": [
    "with open(\"training_hist.json\", \"w\") as f:\n",
    "    json.dump(training_history.history, f)"
   ]
  },
  {
   "cell_type": "markdown",
   "id": "89efe7d3-ea04-46c9-8208-c0d6cdab205e",
   "metadata": {},
   "source": [
    "### Metrics Evaluation and Visualization"
   ]
  },
  {
   "cell_type": "markdown",
   "id": "8ba80660-3d09-4d94-873f-f6a4d1af4b06",
   "metadata": {},
   "source": [
    "#### Accuracy"
   ]
  },
  {
   "cell_type": "code",
   "execution_count": null,
   "id": "a735dbe0-e9d1-4647-9221-c8ac5722d93c",
   "metadata": {},
   "outputs": [],
   "source": []
  },
  {
   "cell_type": "markdown",
   "id": "ff6ef7a2-7da2-42db-8d1b-30fca18589e8",
   "metadata": {},
   "source": [
    "#### Classification Report"
   ]
  },
  {
   "cell_type": "code",
   "execution_count": null,
   "id": "4f959c95-50cc-4842-aa06-78c82238f954",
   "metadata": {},
   "outputs": [],
   "source": []
  },
  {
   "cell_type": "markdown",
   "id": "3f83cca4-fb23-45e4-92d7-9eb17f8828cb",
   "metadata": {},
   "source": [
    "#### Confusion Matrix"
   ]
  },
  {
   "cell_type": "code",
   "execution_count": null,
   "id": "4b066a6e-7600-4a82-8f15-c54f33563fab",
   "metadata": {},
   "outputs": [],
   "source": []
  },
  {
   "cell_type": "code",
   "execution_count": null,
   "id": "4f39dd08-49dd-4ec1-b784-0e76165fda41",
   "metadata": {},
   "outputs": [],
   "source": []
  },
  {
   "cell_type": "code",
   "execution_count": null,
   "id": "c921b14d-f618-4208-92ec-426ce3b66e3a",
   "metadata": {},
   "outputs": [],
   "source": []
  },
  {
   "cell_type": "code",
   "execution_count": null,
   "id": "a74b6965-acad-4c8d-9bf1-a7342748fdcc",
   "metadata": {},
   "outputs": [],
   "source": []
  },
  {
   "cell_type": "code",
   "execution_count": null,
   "id": "02da452d-062e-4feb-8de8-4101d5dc4bcd",
   "metadata": {},
   "outputs": [],
   "source": []
  },
  {
   "cell_type": "code",
   "execution_count": null,
   "id": "ba671dca-30c9-473f-bb95-ad25332fa780",
   "metadata": {},
   "outputs": [],
   "source": []
  },
  {
   "cell_type": "code",
   "execution_count": null,
   "id": "eedd09c6-aeff-4a70-ad10-180a8d46d25e",
   "metadata": {},
   "outputs": [],
   "source": []
  }
 ],
 "metadata": {
  "kernelspec": {
   "display_name": "Python 3 (ipykernel)",
   "language": "python",
   "name": "python3"
  },
  "language_info": {
   "codemirror_mode": {
    "name": "ipython",
    "version": 3
   },
   "file_extension": ".py",
   "mimetype": "text/x-python",
   "name": "python",
   "nbconvert_exporter": "python",
   "pygments_lexer": "ipython3",
   "version": "3.10.12"
  }
 },
 "nbformat": 4,
 "nbformat_minor": 5
}
